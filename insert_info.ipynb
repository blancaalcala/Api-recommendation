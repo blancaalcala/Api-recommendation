{
 "cells": [
  {
   "cell_type": "code",
   "execution_count": 69,
   "metadata": {},
   "outputs": [],
   "source": [
    "import requests\n",
    "import pandas as pd"
   ]
  },
  {
   "cell_type": "code",
   "execution_count": 70,
   "metadata": {},
   "outputs": [],
   "source": [
    "chats = pd.DataFrame(columns=[\"INFO\",\"ID\"])\n",
    "users = pd.DataFrame(columns=[\"INFO\",\"ID\"])\n",
    "messages = pd.DataFrame(columns=[\"INFO\",\"ID\"])\n"
   ]
  },
  {
   "cell_type": "code",
   "execution_count": 62,
   "metadata": {},
   "outputs": [],
   "source": [
    "def createUser(username):\n",
    "    url=\"http://localhost:8080/user/create\"\n",
    "    params={'username':username}\n",
    "    user = requests.post(url,data=params).text\n",
    "    return username,user\n",
    "\n",
    "def appendInfo(username,user_id,users):\n",
    "    users = users.append({'INFO':username,'ID':user_id},ignore_index=True)\n",
    "    return users\n",
    "\n",
    "\n",
    "\n",
    "#name = input(\"Introduce the name of the user: \")\n",
    "names = [\"Eloy\",\"Gonzalo\",\"Ana\",\"Maria\"]\n",
    "for n in names:\n",
    "    username,user_id = createUser(n)\n",
    "    users = appendInfo(username,user_id ,users)\n"
   ]
  },
  {
   "cell_type": "code",
   "execution_count": 63,
   "metadata": {},
   "outputs": [
    {
     "data": {
      "text/html": [
       "<div>\n",
       "<style scoped>\n",
       "    .dataframe tbody tr th:only-of-type {\n",
       "        vertical-align: middle;\n",
       "    }\n",
       "\n",
       "    .dataframe tbody tr th {\n",
       "        vertical-align: top;\n",
       "    }\n",
       "\n",
       "    .dataframe thead th {\n",
       "        text-align: right;\n",
       "    }\n",
       "</style>\n",
       "<table border=\"1\" class=\"dataframe\">\n",
       "  <thead>\n",
       "    <tr style=\"text-align: right;\">\n",
       "      <th></th>\n",
       "      <th>INFO</th>\n",
       "      <th>ID</th>\n",
       "    </tr>\n",
       "  </thead>\n",
       "  <tbody>\n",
       "    <tr>\n",
       "      <th>0</th>\n",
       "      <td>Blanca</td>\n",
       "      <td>5de391d57f6e91bd6cf56455</td>\n",
       "    </tr>\n",
       "    <tr>\n",
       "      <th>1</th>\n",
       "      <td>Elena</td>\n",
       "      <td>5de391d57f6e91bd6cf56456</td>\n",
       "    </tr>\n",
       "    <tr>\n",
       "      <th>2</th>\n",
       "      <td>Cristina</td>\n",
       "      <td>5de391d57f6e91bd6cf56457</td>\n",
       "    </tr>\n",
       "    <tr>\n",
       "      <th>3</th>\n",
       "      <td>Mer</td>\n",
       "      <td>5de391d57f6e91bd6cf56458</td>\n",
       "    </tr>\n",
       "    <tr>\n",
       "      <th>4</th>\n",
       "      <td>Eloy</td>\n",
       "      <td>5de3aad67f6e91bd6cf5645e</td>\n",
       "    </tr>\n",
       "    <tr>\n",
       "      <th>5</th>\n",
       "      <td>Gonzalo</td>\n",
       "      <td>5de3aad67f6e91bd6cf5645f</td>\n",
       "    </tr>\n",
       "    <tr>\n",
       "      <th>6</th>\n",
       "      <td>Ana</td>\n",
       "      <td>5de3aad67f6e91bd6cf56460</td>\n",
       "    </tr>\n",
       "    <tr>\n",
       "      <th>7</th>\n",
       "      <td>Maria</td>\n",
       "      <td>5de3aad67f6e91bd6cf56461</td>\n",
       "    </tr>\n",
       "  </tbody>\n",
       "</table>\n",
       "</div>"
      ],
      "text/plain": [
       "       INFO                        ID\n",
       "0    Blanca  5de391d57f6e91bd6cf56455\n",
       "1     Elena  5de391d57f6e91bd6cf56456\n",
       "2  Cristina  5de391d57f6e91bd6cf56457\n",
       "3       Mer  5de391d57f6e91bd6cf56458\n",
       "4      Eloy  5de3aad67f6e91bd6cf5645e\n",
       "5   Gonzalo  5de3aad67f6e91bd6cf5645f\n",
       "6       Ana  5de3aad67f6e91bd6cf56460\n",
       "7     Maria  5de3aad67f6e91bd6cf56461"
      ]
     },
     "execution_count": 63,
     "metadata": {},
     "output_type": "execute_result"
    }
   ],
   "source": [
    "users"
   ]
  },
  {
   "cell_type": "code",
   "execution_count": 55,
   "metadata": {},
   "outputs": [],
   "source": [
    "def createChat(chatname,users):    \n",
    "    url=\"http://localhost:8080/chat/create\"\n",
    "    params={'chatname':chatname,\n",
    "           'users':users}\n",
    "    chat = requests.post(url,data=params).text\n",
    "    return chatname,chat\n",
    "    \n",
    "chatname,chat_id = createChat(\"datamad1019\",[users.loc[0].ID,users.loc[1].ID])\n",
    "chats = appendInfo(chatname,chat_id,chats)"
   ]
  },
  {
   "cell_type": "code",
   "execution_count": 56,
   "metadata": {},
   "outputs": [
    {
     "data": {
      "text/html": [
       "<div>\n",
       "<style scoped>\n",
       "    .dataframe tbody tr th:only-of-type {\n",
       "        vertical-align: middle;\n",
       "    }\n",
       "\n",
       "    .dataframe tbody tr th {\n",
       "        vertical-align: top;\n",
       "    }\n",
       "\n",
       "    .dataframe thead th {\n",
       "        text-align: right;\n",
       "    }\n",
       "</style>\n",
       "<table border=\"1\" class=\"dataframe\">\n",
       "  <thead>\n",
       "    <tr style=\"text-align: right;\">\n",
       "      <th></th>\n",
       "      <th>INFO</th>\n",
       "      <th>ID</th>\n",
       "    </tr>\n",
       "  </thead>\n",
       "  <tbody>\n",
       "    <tr>\n",
       "      <th>0</th>\n",
       "      <td>datamad1019</td>\n",
       "      <td>5de391f57f6e91bd6cf56459</td>\n",
       "    </tr>\n",
       "  </tbody>\n",
       "</table>\n",
       "</div>"
      ],
      "text/plain": [
       "          INFO                        ID\n",
       "0  datamad1019  5de391f57f6e91bd6cf56459"
      ]
     },
     "execution_count": 56,
     "metadata": {},
     "output_type": "execute_result"
    }
   ],
   "source": [
    "chats"
   ]
  },
  {
   "cell_type": "code",
   "execution_count": 57,
   "metadata": {},
   "outputs": [
    {
     "data": {
      "text/plain": [
       "'5de391f57f6e91bd6cf56459'"
      ]
     },
     "execution_count": 57,
     "metadata": {},
     "output_type": "execute_result"
    }
   ],
   "source": [
    "def addUser(chat,user_id):\n",
    "    url=f\"http://localhost:8080/chat/{chat}/adduser\"\n",
    "    params={'userid':user_id}\n",
    "    requests.post(url,data=params).text\n",
    "    return chat\n",
    "\n",
    "addUser(chats.loc[0].ID,[users.loc[2].ID,users.loc[3].ID])"
   ]
  },
  {
   "cell_type": "code",
   "execution_count": 72,
   "metadata": {},
   "outputs": [],
   "source": [
    "def addMessage(chat,message,user_id):   \n",
    "    url=f\"http://localhost:8080/chat/{chat}/addmessage\"\n",
    "    params={'message':message,\n",
    "           'user_id':user_id}\n",
    "    message_id = requests.post(url,data=params).text\n",
    "    return message,message_id\n",
    "\n",
    "message,message_id= addMessage('5de391f57f6e91bd6cf56459',\"xxx\",'5de391d57f6e91bd6cf56455')\n",
    "messages = appendInfo(message,message_id,messages)"
   ]
  },
  {
   "cell_type": "code",
   "execution_count": null,
   "metadata": {},
   "outputs": [],
   "source": []
  },
  {
   "cell_type": "code",
   "execution_count": null,
   "metadata": {},
   "outputs": [],
   "source": []
  }
 ],
 "metadata": {
  "kernelspec": {
   "display_name": "Python 3",
   "language": "python",
   "name": "python3"
  },
  "language_info": {
   "codemirror_mode": {
    "name": "ipython",
    "version": 3
   },
   "file_extension": ".py",
   "mimetype": "text/x-python",
   "name": "python",
   "nbconvert_exporter": "python",
   "pygments_lexer": "ipython3",
   "version": "3.7.5"
  }
 },
 "nbformat": 4,
 "nbformat_minor": 2
}
