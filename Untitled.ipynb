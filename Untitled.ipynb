{
 "cells": [
  {
   "cell_type": "code",
   "execution_count": 29,
   "metadata": {},
   "outputs": [],
   "source": [
    "import requests\n",
    "\n",
    "\n",
    "token = 'ePODcrWFRXpNDJQoAZPXnnmN'\n",
    "query = 'sql'\n",
    "client = '2432150752.848029012065'\n",
    "secret = 'a4ead31290e87b009601b3db8a2d72b0'\n",
    "#x = requests.post(f'https://slack.com/api/oauth.access?client_id={client}&client_secret={secret}&code=ccdaa72ad')\n",
    "\n",
    "\n",
    "\n",
    "\n",
    "\n"
   ]
  },
  {
   "cell_type": "code",
   "execution_count": 27,
   "metadata": {},
   "outputs": [
    {
     "data": {
      "text/plain": [
       "{'ok': False, 'error': 'invalid_code'}"
      ]
     },
     "execution_count": 27,
     "metadata": {},
     "output_type": "execute_result"
    }
   ],
   "source": [
    "x.json()"
   ]
  },
  {
   "cell_type": "code",
   "execution_count": 34,
   "metadata": {},
   "outputs": [],
   "source": [
    "x = requests.get('http://ironhack-nlp-project.herokuapp.com/chat/5de4f2f2e0b9ab8f65a0f57a/list')"
   ]
  },
  {
   "cell_type": "code",
   "execution_count": 35,
   "metadata": {},
   "outputs": [
    {
     "data": {
      "text/plain": [
       "'<!DOCTYPE html>\\n\\t<html>\\n\\t  <head>\\n\\t\\t<meta name=\"viewport\" content=\"width=device-width, initial-scale=1\">\\n\\t\\t<meta charset=\"utf-8\">\\n\\t\\t<title>Application Error</title>\\n\\t\\t<style media=\"screen\">\\n\\t\\t  html,body,iframe {\\n\\t\\t\\tmargin: 0;\\n\\t\\t\\tpadding: 0;\\n\\t\\t  }\\n\\t\\t  html,body {\\n\\t\\t\\theight: 100%;\\n\\t\\t\\toverflow: hidden;\\n\\t\\t  }\\n\\t\\t  iframe {\\n\\t\\t\\twidth: 100%;\\n\\t\\t\\theight: 100%;\\n\\t\\t\\tborder: 0;\\n\\t\\t  }\\n\\t\\t</style>\\n\\t  </head>\\n\\t  <body>\\n\\t\\t<iframe src=\"//www.herokucdn.com/error-pages/application-error.html\"></iframe>\\n\\t  </body>\\n\\t</html>'"
      ]
     },
     "execution_count": 35,
     "metadata": {},
     "output_type": "execute_result"
    }
   ],
   "source": [
    "x.text"
   ]
  },
  {
   "cell_type": "code",
   "execution_count": null,
   "metadata": {},
   "outputs": [],
   "source": []
  }
 ],
 "metadata": {
  "kernelspec": {
   "display_name": "Python 3",
   "language": "python",
   "name": "python3"
  },
  "language_info": {
   "codemirror_mode": {
    "name": "ipython",
    "version": 3
   },
   "file_extension": ".py",
   "mimetype": "text/x-python",
   "name": "python",
   "nbconvert_exporter": "python",
   "pygments_lexer": "ipython3",
   "version": "3.7.5"
  }
 },
 "nbformat": 4,
 "nbformat_minor": 2
}
