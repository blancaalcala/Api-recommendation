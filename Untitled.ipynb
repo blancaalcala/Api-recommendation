{
 "cells": [
  {
   "cell_type": "code",
   "execution_count": 1,
   "metadata": {},
   "outputs": [],
   "source": [
    "import requests\n"
   ]
  },
  {
   "cell_type": "code",
   "execution_count": null,
   "metadata": {},
   "outputs": [],
   "source": [
    "\n"
   ]
  },
  {
   "cell_type": "code",
   "execution_count": null,
   "metadata": {},
   "outputs": [],
   "source": [
    "\n",
    "\n"
   ]
  },
  {
   "cell_type": "code",
   "execution_count": 2,
   "metadata": {},
   "outputs": [
    {
     "data": {
      "text/plain": [
       "'{\"user_id\": \"[[\\'Blanca\\', ObjectId(\\'5de23caaf490b3fa9e9f8683\\')]]\"}'"
      ]
     },
     "execution_count": 2,
     "metadata": {},
     "output_type": "execute_result"
    }
   ],
   "source": [
    "url=\"http://localhost:8080/user/create\"\n",
    "params={'username':'Blanca'}\n",
    "requests.post(url,data=params).text\n",
    "\n"
   ]
  },
  {
   "cell_type": "code",
   "execution_count": 3,
   "metadata": {},
   "outputs": [
    {
     "data": {
      "text/plain": [
       "'{\"user_id\": \"[[\\'Blanca\\', ObjectId(\\'5de23caaf490b3fa9e9f8683\\')], [\\'Mercedes\\', ObjectId(\\'5de23caaf490b3fa9e9f8684\\')]]\"}'"
      ]
     },
     "execution_count": 3,
     "metadata": {},
     "output_type": "execute_result"
    }
   ],
   "source": [
    "url=\"http://localhost:8080/user/create\"\n",
    "params={'username':'Mercedes'}\n",
    "requests.post(url,data=params).text\n"
   ]
  },
  {
   "cell_type": "code",
   "execution_count": 4,
   "metadata": {},
   "outputs": [
    {
     "data": {
      "text/plain": [
       "'{\"chat_id\": \"[[\\'IronhackMadrid\\', ObjectId(\\'5de23cacf490b3fa9e9f8685\\')]]\"}'"
      ]
     },
     "execution_count": 4,
     "metadata": {},
     "output_type": "execute_result"
    }
   ],
   "source": [
    "url=\"http://localhost:8080/chat/create\"\n",
    "params={'chatname':'IronhackMadrid'}\n",
    "requests.post(url,data=params).text"
   ]
  },
  {
   "cell_type": "code",
   "execution_count": 5,
   "metadata": {},
   "outputs": [
    {
     "data": {
      "text/plain": [
       "'{\"user_id\": [\"5de23caaf490b3fa9e9f8683\", \"5de23caaf490b3fa9e9f8683\"]}'"
      ]
     },
     "execution_count": 5,
     "metadata": {},
     "output_type": "execute_result"
    }
   ],
   "source": [
    "url=\"http://localhost:8080/chat/5de23cacf490b3fa9e9f8685/adduser\"\n",
    "params={'userid':['5de23caaf490b3fa9e9f8683','5de23caaf490b3fa9e9f8683']}\n",
    "requests.post(url,data=params).text"
   ]
  },
  {
   "cell_type": "code",
   "execution_count": 6,
   "metadata": {},
   "outputs": [
    {
     "data": {
      "text/plain": [
       "'\\n    <!DOCTYPE HTML PUBLIC \"-//IETF//DTD HTML 2.0//EN\">\\n    <html>\\n        <head>\\n            <title>Error: 500 Internal Server Error</title>\\n            <style type=\"text/css\">\\n              html {background-color: #eee; font-family: sans;}\\n              body {background-color: #fff; border: 1px solid #ddd;\\n                    padding: 15px; margin: 15px;}\\n              pre {background-color: #eee; border: 1px solid #ddd; padding: 5px;}\\n            </style>\\n        </head>\\n        <body>\\n            <h1>Error: 500 Internal Server Error</h1>\\n            <p>Sorry, the requested URL <tt>&#039;http://localhost:8080/message/5de23cacf490b3fa9e9f8685/create&#039;</tt>\\n               caused an error:</p>\\n            <pre>Unsupported response type: &lt;class &#039;list&#039;&gt;</pre>\\n        </body>\\n    </html>\\n'"
      ]
     },
     "execution_count": 6,
     "metadata": {},
     "output_type": "execute_result"
    }
   ],
   "source": [
    "url=\"http://localhost:8080/message/5de23cacf490b3fa9e9f8685/create\"\n",
    "params={'message':'Hello World'}\n",
    "requests.post(url,data=params).text"
   ]
  },
  {
   "cell_type": "code",
   "execution_count": 13,
   "metadata": {},
   "outputs": [],
   "source": [
    "url=\"http://localhost:8080/chat/5de23cacf490b3fa9e9f8685/addmessage\"\n",
    "params={'message':'5de23cd5f490b3fa9e9f8686'}"
   ]
  },
  {
   "cell_type": "code",
   "execution_count": 14,
   "metadata": {},
   "outputs": [
    {
     "data": {
      "text/plain": [
       "''"
      ]
     },
     "execution_count": 14,
     "metadata": {},
     "output_type": "execute_result"
    }
   ],
   "source": [
    "requests.post(url,data=params).text"
   ]
  },
  {
   "cell_type": "code",
   "execution_count": null,
   "metadata": {},
   "outputs": [],
   "source": []
  }
 ],
 "metadata": {
  "kernelspec": {
   "display_name": "Python 3",
   "language": "python",
   "name": "python3"
  },
  "language_info": {
   "codemirror_mode": {
    "name": "ipython",
    "version": 3
   },
   "file_extension": ".py",
   "mimetype": "text/x-python",
   "name": "python",
   "nbconvert_exporter": "python",
   "pygments_lexer": "ipython3",
   "version": "3.7.5"
  }
 },
 "nbformat": 4,
 "nbformat_minor": 2
}
