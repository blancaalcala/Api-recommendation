{
 "cells": [
  {
   "cell_type": "code",
   "execution_count": 16,
   "metadata": {},
   "outputs": [],
   "source": [
    "import requests\n",
    "import pandas as pd"
   ]
  },
  {
   "cell_type": "code",
   "execution_count": 17,
   "metadata": {},
   "outputs": [],
   "source": [
    "chats = pd.DataFrame(columns=[\"INFO\",\"ID\"])\n",
    "users = pd.DataFrame(columns=[\"INFO\",\"ID\"])\n",
    "messages = pd.DataFrame(columns=[\"INFO\",\"ID\"])\n"
   ]
  },
  {
   "cell_type": "code",
   "execution_count": 19,
   "metadata": {},
   "outputs": [],
   "source": [
    "def createUser(username):\n",
    "    url=\"http://localhost:8080/user/create\"\n",
    "    params={'username':username}\n",
    "    user = requests.post(url,data=params).text\n",
    "    return username,user\n",
    "\n",
    "def appendInfo(username,user_id,users):\n",
    "    users = users.append({'INFO':username,'ID':user_id},ignore_index=True)\n",
    "    return users\n",
    "\n",
    "\n",
    "names = [\"Ana\",\"Maria\",\"Blanca\",\"Cristina\"]\n",
    "for n in names:\n",
    "    username,user_id = createUser(n)\n",
    "    users = appendInfo(username,user_id ,users)\n"
   ]
  },
  {
   "cell_type": "code",
   "execution_count": 22,
   "metadata": {},
   "outputs": [],
   "source": [
    "def createChat(chatname,users):    \n",
    "    url=\"http://localhost:8080/chat/create\"\n",
    "    params={'chatname':chatname,\n",
    "           'users':users}\n",
    "    chat = requests.post(url,data=params).text\n",
    "    return chatname,chat\n",
    "    \n",
    "chatname,chat_id = createChat(\"alumnos\",list(users.ID)[4:])\n",
    "chats = appendInfo(chatname,chat_id,chats)"
   ]
  },
  {
   "cell_type": "code",
   "execution_count": null,
   "metadata": {},
   "outputs": [],
   "source": []
  },
  {
   "cell_type": "code",
   "execution_count": 25,
   "metadata": {},
   "outputs": [
    {
     "data": {
      "text/plain": [
       "'5de4f2f2e0b9ab8f65a0f57a'"
      ]
     },
     "execution_count": 25,
     "metadata": {},
     "output_type": "execute_result"
    }
   ],
   "source": [
    "def addUser(chat,user_id):\n",
    "    url=f\"http://localhost:8080/chat/{chat}/adduser\"\n",
    "    params={'userid':user_id}\n",
    "    requests.post(url,data=params).text\n",
    "    return chat\n",
    "\n",
    "addUser(chats.loc[0].ID,[users.loc[1]])"
   ]
  },
  {
   "cell_type": "code",
   "execution_count": 35,
   "metadata": {},
   "outputs": [
    {
     "data": {
      "text/html": [
       "<div>\n",
       "<style scoped>\n",
       "    .dataframe tbody tr th:only-of-type {\n",
       "        vertical-align: middle;\n",
       "    }\n",
       "\n",
       "    .dataframe tbody tr th {\n",
       "        vertical-align: top;\n",
       "    }\n",
       "\n",
       "    .dataframe thead th {\n",
       "        text-align: right;\n",
       "    }\n",
       "</style>\n",
       "<table border=\"1\" class=\"dataframe\">\n",
       "  <thead>\n",
       "    <tr style=\"text-align: right;\">\n",
       "      <th></th>\n",
       "      <th>INFO</th>\n",
       "      <th>ID</th>\n",
       "    </tr>\n",
       "  </thead>\n",
       "  <tbody>\n",
       "    <tr>\n",
       "      <th>0</th>\n",
       "      <td>datamad1019</td>\n",
       "      <td>5de4f2f2e0b9ab8f65a0f57a</td>\n",
       "    </tr>\n",
       "    <tr>\n",
       "      <th>1</th>\n",
       "      <td>ironhack</td>\n",
       "      <td>5de4f2fae0b9ab8f65a0f57b</td>\n",
       "    </tr>\n",
       "    <tr>\n",
       "      <th>2</th>\n",
       "      <td>alumnos</td>\n",
       "      <td>5de4f302e0b9ab8f65a0f57c</td>\n",
       "    </tr>\n",
       "  </tbody>\n",
       "</table>\n",
       "</div>"
      ],
      "text/plain": [
       "          INFO                        ID\n",
       "0  datamad1019  5de4f2f2e0b9ab8f65a0f57a\n",
       "1     ironhack  5de4f2fae0b9ab8f65a0f57b\n",
       "2      alumnos  5de4f302e0b9ab8f65a0f57c"
      ]
     },
     "execution_count": 35,
     "metadata": {},
     "output_type": "execute_result"
    }
   ],
   "source": [
    "chats"
   ]
  },
  {
   "cell_type": "code",
   "execution_count": 37,
   "metadata": {},
   "outputs": [],
   "source": [
    "def addMessage(chat,message,user_id):   \n",
    "    url=f\"http://localhost:8080/chat/{chat}/addmessage\"\n",
    "    params={'message':message,\n",
    "           'user_id':user_id}\n",
    "    message_id = requests.post(url,data=params).text\n",
    "    return message,message_id\n",
    "\n",
    "message,message_id= addMessage(chats.loc[2].ID,'Cuando vamos a tener las camisetas?',users.loc[0].ID)\n",
    "messages = appendInfo(message,message_id,messages)"
   ]
  },
  {
   "cell_type": "code",
   "execution_count": null,
   "metadata": {},
   "outputs": [],
   "source": []
  },
  {
   "cell_type": "code",
   "execution_count": 38,
   "metadata": {},
   "outputs": [],
   "source": [
    "users.to_csv(\"output/users_id.csv\")\n",
    "chats.to_csv(\"output/chats_id.csv\")\n",
    "messages.to_csv(\"output/messages_id.csv\")"
   ]
  },
  {
   "cell_type": "code",
   "execution_count": null,
   "metadata": {},
   "outputs": [],
   "source": []
  }
 ],
 "metadata": {
  "kernelspec": {
   "display_name": "Python 3",
   "language": "python",
   "name": "python3"
  },
  "language_info": {
   "codemirror_mode": {
    "name": "ipython",
    "version": 3
   },
   "file_extension": ".py",
   "mimetype": "text/x-python",
   "name": "python",
   "nbconvert_exporter": "python",
   "pygments_lexer": "ipython3",
   "version": "3.7.5"
  }
 },
 "nbformat": 4,
 "nbformat_minor": 2
}
