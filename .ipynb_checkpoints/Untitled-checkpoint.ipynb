{
 "cells": [
  {
   "cell_type": "code",
   "execution_count": 1,
   "metadata": {},
   "outputs": [],
   "source": [
    "import requests\n",
    "import pandas as pd"
   ]
  },
  {
   "cell_type": "code",
   "execution_count": 2,
   "metadata": {},
   "outputs": [],
   "source": [
    "chats = pd.DataFrame(columns=[\"INFO\",\"ID\"])\n",
    "users = pd.DataFrame(columns=[\"INFO\",\"ID\"])\n",
    "messages = pd.DataFrame(columns=[\"INFO\",\"ID\"])\n"
   ]
  },
  {
   "cell_type": "code",
   "execution_count": 10,
   "metadata": {},
   "outputs": [],
   "source": [
    "def createUser(username):\n",
    "    url=\"http://localhost:8080/user/create\"\n",
    "    params={'username':username}\n",
    "    user = requests.post(url,data=params).text\n",
    "    return username,user\n",
    "\n",
    "def appendInfo(username,user_id,users):\n",
    "    users = users.append({'INFO':username,'ID':user_id},ignore_index=True)\n",
    "    return users\n",
    "\n",
    "\n",
    "\n",
    "#name = input(\"Introduce the name of the user: \")\n",
    "names = [\"Antonio\",\"Carlos\",\"Pepe\",\"Alvaro\"]\n",
    "for n in names:\n",
    "    username,user_id = createUser(n)\n",
    "    users = appendInfo(username,user_id ,users)\n"
   ]
  },
  {
   "cell_type": "code",
   "execution_count": 11,
   "metadata": {},
   "outputs": [
    {
     "data": {
      "text/html": [
       "<div>\n",
       "<style scoped>\n",
       "    .dataframe tbody tr th:only-of-type {\n",
       "        vertical-align: middle;\n",
       "    }\n",
       "\n",
       "    .dataframe tbody tr th {\n",
       "        vertical-align: top;\n",
       "    }\n",
       "\n",
       "    .dataframe thead th {\n",
       "        text-align: right;\n",
       "    }\n",
       "</style>\n",
       "<table border=\"1\" class=\"dataframe\">\n",
       "  <thead>\n",
       "    <tr style=\"text-align: right;\">\n",
       "      <th></th>\n",
       "      <th>INFO</th>\n",
       "      <th>ID</th>\n",
       "    </tr>\n",
       "  </thead>\n",
       "  <tbody>\n",
       "    <tr>\n",
       "      <th>0</th>\n",
       "      <td>Blanca</td>\n",
       "      <td>5de2f600964f3f7b725bf4ac</td>\n",
       "    </tr>\n",
       "    <tr>\n",
       "      <th>1</th>\n",
       "      <td>Mercedes</td>\n",
       "      <td>5de2f600964f3f7b725bf4ad</td>\n",
       "    </tr>\n",
       "    <tr>\n",
       "      <th>2</th>\n",
       "      <td>Cristina</td>\n",
       "      <td>5de2f600964f3f7b725bf4ae</td>\n",
       "    </tr>\n",
       "    <tr>\n",
       "      <th>3</th>\n",
       "      <td>Elena</td>\n",
       "      <td>5de2f600964f3f7b725bf4af</td>\n",
       "    </tr>\n",
       "    <tr>\n",
       "      <th>4</th>\n",
       "      <td>Antonio</td>\n",
       "      <td>5de2f69b964f3f7b725bf4b2</td>\n",
       "    </tr>\n",
       "    <tr>\n",
       "      <th>5</th>\n",
       "      <td>Carlos</td>\n",
       "      <td>5de2f69b964f3f7b725bf4b3</td>\n",
       "    </tr>\n",
       "    <tr>\n",
       "      <th>6</th>\n",
       "      <td>Pepe</td>\n",
       "      <td>5de2f69b964f3f7b725bf4b4</td>\n",
       "    </tr>\n",
       "    <tr>\n",
       "      <th>7</th>\n",
       "      <td>Alvaro</td>\n",
       "      <td>5de2f69b964f3f7b725bf4b5</td>\n",
       "    </tr>\n",
       "  </tbody>\n",
       "</table>\n",
       "</div>"
      ],
      "text/plain": [
       "       INFO                        ID\n",
       "0    Blanca  5de2f600964f3f7b725bf4ac\n",
       "1  Mercedes  5de2f600964f3f7b725bf4ad\n",
       "2  Cristina  5de2f600964f3f7b725bf4ae\n",
       "3     Elena  5de2f600964f3f7b725bf4af\n",
       "4   Antonio  5de2f69b964f3f7b725bf4b2\n",
       "5    Carlos  5de2f69b964f3f7b725bf4b3\n",
       "6      Pepe  5de2f69b964f3f7b725bf4b4\n",
       "7    Alvaro  5de2f69b964f3f7b725bf4b5"
      ]
     },
     "execution_count": 11,
     "metadata": {},
     "output_type": "execute_result"
    }
   ],
   "source": [
    "users"
   ]
  },
  {
   "cell_type": "code",
   "execution_count": 14,
   "metadata": {},
   "outputs": [],
   "source": [
    "def createChat(chatname,users):    \n",
    "    url=\"http://localhost:8080/chat/create\"\n",
    "    params={'chatname':chatname,\n",
    "           'users':users}\n",
    "    chat = requests.post(url,data=params).text\n",
    "    return chatname,chat\n",
    "    \n",
    "chatname,chat_id = createChat(\"datamad1019\",['5de2f69b964f3f7b725bf4b3','5de2f69b964f3f7b725bf4b4'])\n",
    "chats = appendInfo(chatname,chat_id,chats)"
   ]
  },
  {
   "cell_type": "code",
   "execution_count": 15,
   "metadata": {},
   "outputs": [
    {
     "data": {
      "text/html": [
       "<div>\n",
       "<style scoped>\n",
       "    .dataframe tbody tr th:only-of-type {\n",
       "        vertical-align: middle;\n",
       "    }\n",
       "\n",
       "    .dataframe tbody tr th {\n",
       "        vertical-align: top;\n",
       "    }\n",
       "\n",
       "    .dataframe thead th {\n",
       "        text-align: right;\n",
       "    }\n",
       "</style>\n",
       "<table border=\"1\" class=\"dataframe\">\n",
       "  <thead>\n",
       "    <tr style=\"text-align: right;\">\n",
       "      <th></th>\n",
       "      <th>INFO</th>\n",
       "      <th>ID</th>\n",
       "    </tr>\n",
       "  </thead>\n",
       "  <tbody>\n",
       "    <tr>\n",
       "      <th>0</th>\n",
       "      <td>ironhack</td>\n",
       "      <td>5de2f626964f3f7b725bf4b0</td>\n",
       "    </tr>\n",
       "    <tr>\n",
       "      <th>1</th>\n",
       "      <td>ironhack</td>\n",
       "      <td>5de2f6a8964f3f7b725bf4b6</td>\n",
       "    </tr>\n",
       "    <tr>\n",
       "      <th>2</th>\n",
       "      <td>datamad1019</td>\n",
       "      <td>5de2f6b3964f3f7b725bf4b7</td>\n",
       "    </tr>\n",
       "  </tbody>\n",
       "</table>\n",
       "</div>"
      ],
      "text/plain": [
       "          INFO                        ID\n",
       "0     ironhack  5de2f626964f3f7b725bf4b0\n",
       "1     ironhack  5de2f6a8964f3f7b725bf4b6\n",
       "2  datamad1019  5de2f6b3964f3f7b725bf4b7"
      ]
     },
     "execution_count": 15,
     "metadata": {},
     "output_type": "execute_result"
    }
   ],
   "source": [
    "chats"
   ]
  },
  {
   "cell_type": "code",
   "execution_count": 7,
   "metadata": {},
   "outputs": [
    {
     "data": {
      "text/plain": [
       "'5de2f626964f3f7b725bf4b0'"
      ]
     },
     "execution_count": 7,
     "metadata": {},
     "output_type": "execute_result"
    }
   ],
   "source": [
    "def addUser(chat,user_id):\n",
    "    url=f\"http://localhost:8080/chat/{chat}/adduser\"\n",
    "    params={'userid':user_id}\n",
    "    requests.post(url,data=params).text\n",
    "    return chat\n",
    "\n",
    "addUser(chats.loc[0].ID,[users.loc[0].ID,users.loc[1].ID])"
   ]
  },
  {
   "cell_type": "code",
   "execution_count": 18,
   "metadata": {},
   "outputs": [],
   "source": [
    "def addMessage(chat,message,user_id):   \n",
    "    url=f\"http://localhost:8080/chat/{chat}/addmessage\"\n",
    "    params={'message':message,\n",
    "           'user_id':user_id}\n",
    "    message_id = requests.post(url,data=params).text\n",
    "    return message,message_id\n",
    "\n",
    "message,message_id= addMessage(chats.loc[1].ID,\"i am very tired\",users.loc[2].ID)\n",
    "messages = appendInfo(message,message_id,messages)"
   ]
  },
  {
   "cell_type": "code",
   "execution_count": 19,
   "metadata": {},
   "outputs": [
    {
     "data": {
      "text/html": [
       "<div>\n",
       "<style scoped>\n",
       "    .dataframe tbody tr th:only-of-type {\n",
       "        vertical-align: middle;\n",
       "    }\n",
       "\n",
       "    .dataframe tbody tr th {\n",
       "        vertical-align: top;\n",
       "    }\n",
       "\n",
       "    .dataframe thead th {\n",
       "        text-align: right;\n",
       "    }\n",
       "</style>\n",
       "<table border=\"1\" class=\"dataframe\">\n",
       "  <thead>\n",
       "    <tr style=\"text-align: right;\">\n",
       "      <th></th>\n",
       "      <th>INFO</th>\n",
       "      <th>ID</th>\n",
       "    </tr>\n",
       "  </thead>\n",
       "  <tbody>\n",
       "    <tr>\n",
       "      <th>0</th>\n",
       "      <td>Hello World</td>\n",
       "      <td>5de2f65a964f3f7b725bf4b1</td>\n",
       "    </tr>\n",
       "    <tr>\n",
       "      <th>1</th>\n",
       "      <td>i am back from holidays</td>\n",
       "      <td>5de2f6c8964f3f7b725bf4b8</td>\n",
       "    </tr>\n",
       "    <tr>\n",
       "      <th>2</th>\n",
       "      <td>i am very tired</td>\n",
       "      <td>5de2f6e0964f3f7b725bf4b9</td>\n",
       "    </tr>\n",
       "  </tbody>\n",
       "</table>\n",
       "</div>"
      ],
      "text/plain": [
       "                      INFO                        ID\n",
       "0              Hello World  5de2f65a964f3f7b725bf4b1\n",
       "1  i am back from holidays  5de2f6c8964f3f7b725bf4b8\n",
       "2          i am very tired  5de2f6e0964f3f7b725bf4b9"
      ]
     },
     "execution_count": 19,
     "metadata": {},
     "output_type": "execute_result"
    }
   ],
   "source": [
    "messages"
   ]
  },
  {
   "cell_type": "code",
   "execution_count": null,
   "metadata": {},
   "outputs": [],
   "source": []
  }
 ],
 "metadata": {
  "kernelspec": {
   "display_name": "Python 3",
   "language": "python",
   "name": "python3"
  },
  "language_info": {
   "codemirror_mode": {
    "name": "ipython",
    "version": 3
   },
   "file_extension": ".py",
   "mimetype": "text/x-python",
   "name": "python",
   "nbconvert_exporter": "python",
   "pygments_lexer": "ipython3",
   "version": "3.7.5"
  }
 },
 "nbformat": 4,
 "nbformat_minor": 2
}
