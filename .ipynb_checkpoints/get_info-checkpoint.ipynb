{
 "cells": [
  {
   "cell_type": "code",
   "execution_count": 45,
   "metadata": {},
   "outputs": [],
   "source": [
    "from pymongo import MongoClient\n",
    "from bson.objectid import ObjectId\n",
    "import requests\n",
    "import json\n",
    "\n",
    "import pandas as pd\n",
    "from sklearn.feature_extraction.text import CountVectorizer\n",
    "\n",
    "client = MongoClient()\n",
    "db = client[\"API\"]\n",
    "m = db['message']\n"
   ]
  },
  {
   "cell_type": "code",
   "execution_count": 34,
   "metadata": {},
   "outputs": [],
   "source": [
    "def getMessages(chat_id):\n",
    "    url=f\"http://localhost:8080/chat/{chat_id}/list\"\n",
    "    mes = requests.get(url).text\n",
    "    mes = json.loads(mes)\n",
    "    message_list = mes['list'][0]\n",
    "    return message_list['messages']\n"
   ]
  },
  {
   "cell_type": "markdown",
   "metadata": {},
   "source": [
    "# RECOMENDATIONS"
   ]
  },
  {
   "cell_type": "code",
   "execution_count": 244,
   "metadata": {},
   "outputs": [],
   "source": [
    "import numpy as np\n",
    "\n",
    "from sklearn.metrics.pairwise import cosine_similarity as distance\n",
    "\n",
    "\n",
    "\n",
    "info = {}\n",
    "x=list(m.find({},{'message':1,'user_id':1,'_id':0}))\n",
    "for i in x:\n",
    "    if i['user_id'] not in info.keys():\n",
    "        info[i['user_id']] = i['message']\n",
    "    else:\n",
    "        info[i['user_id']] = info[i['user_id']]+\" \"+i['message']\n",
    "        "
   ]
  },
  {
   "cell_type": "code",
   "execution_count": 245,
   "metadata": {},
   "outputs": [],
   "source": [
    "count_vectorizer = CountVectorizer(stop_words='english')\n",
    "count_vectorizer = CountVectorizer()\n",
    "sparse_matrix = count_vectorizer.fit_transform(info.values())\n"
   ]
  },
  {
   "cell_type": "code",
   "execution_count": 246,
   "metadata": {},
   "outputs": [
    {
     "data": {
      "text/html": [
       "<div>\n",
       "<style scoped>\n",
       "    .dataframe tbody tr th:only-of-type {\n",
       "        vertical-align: middle;\n",
       "    }\n",
       "\n",
       "    .dataframe tbody tr th {\n",
       "        vertical-align: top;\n",
       "    }\n",
       "\n",
       "    .dataframe thead th {\n",
       "        text-align: right;\n",
       "    }\n",
       "</style>\n",
       "<table border=\"1\" class=\"dataframe\">\n",
       "  <thead>\n",
       "    <tr style=\"text-align: right;\">\n",
       "      <th></th>\n",
       "      <th>am</th>\n",
       "      <th>are</th>\n",
       "      <th>back</th>\n",
       "      <th>came</th>\n",
       "      <th>extremelly</th>\n",
       "      <th>from</th>\n",
       "      <th>good</th>\n",
       "      <th>hate</th>\n",
       "      <th>hello</th>\n",
       "      <th>holidays</th>\n",
       "      <th>how</th>\n",
       "      <th>just</th>\n",
       "      <th>sad</th>\n",
       "      <th>you</th>\n",
       "    </tr>\n",
       "  </thead>\n",
       "  <tbody>\n",
       "    <tr>\n",
       "      <th>5de391d57f6e91bd6cf56455</th>\n",
       "      <td>0</td>\n",
       "      <td>1</td>\n",
       "      <td>0</td>\n",
       "      <td>0</td>\n",
       "      <td>0</td>\n",
       "      <td>0</td>\n",
       "      <td>0</td>\n",
       "      <td>1</td>\n",
       "      <td>1</td>\n",
       "      <td>0</td>\n",
       "      <td>1</td>\n",
       "      <td>0</td>\n",
       "      <td>0</td>\n",
       "      <td>2</td>\n",
       "    </tr>\n",
       "    <tr>\n",
       "      <th>5de391d57f6e91bd6cf56456</th>\n",
       "      <td>1</td>\n",
       "      <td>0</td>\n",
       "      <td>1</td>\n",
       "      <td>1</td>\n",
       "      <td>0</td>\n",
       "      <td>1</td>\n",
       "      <td>1</td>\n",
       "      <td>0</td>\n",
       "      <td>0</td>\n",
       "      <td>1</td>\n",
       "      <td>0</td>\n",
       "      <td>1</td>\n",
       "      <td>0</td>\n",
       "      <td>0</td>\n",
       "    </tr>\n",
       "    <tr>\n",
       "      <th>5de391d57f6e91bd6cf56457</th>\n",
       "      <td>1</td>\n",
       "      <td>0</td>\n",
       "      <td>0</td>\n",
       "      <td>0</td>\n",
       "      <td>1</td>\n",
       "      <td>0</td>\n",
       "      <td>0</td>\n",
       "      <td>0</td>\n",
       "      <td>0</td>\n",
       "      <td>0</td>\n",
       "      <td>0</td>\n",
       "      <td>0</td>\n",
       "      <td>1</td>\n",
       "      <td>0</td>\n",
       "    </tr>\n",
       "  </tbody>\n",
       "</table>\n",
       "</div>"
      ],
      "text/plain": [
       "                          am  are  back  came  extremelly  from  good  hate  \\\n",
       "5de391d57f6e91bd6cf56455   0    1     0     0           0     0     0     1   \n",
       "5de391d57f6e91bd6cf56456   1    0     1     1           0     1     1     0   \n",
       "5de391d57f6e91bd6cf56457   1    0     0     0           1     0     0     0   \n",
       "\n",
       "                          hello  holidays  how  just  sad  you  \n",
       "5de391d57f6e91bd6cf56455      1         0    1     0    0    2  \n",
       "5de391d57f6e91bd6cf56456      0         1    0     1    0    0  \n",
       "5de391d57f6e91bd6cf56457      0         0    0     0    1    0  "
      ]
     },
     "metadata": {},
     "output_type": "display_data"
    }
   ],
   "source": [
    "info_matrix = sparse_matrix.todense()\n",
    "df = pd.DataFrame(info_matrix, \n",
    "                  columns=count_vectorizer.get_feature_names(), \n",
    "                  index=info.keys())\n",
    "display(df)\n"
   ]
  },
  {
   "cell_type": "code",
   "execution_count": 249,
   "metadata": {},
   "outputs": [
    {
     "data": {
      "text/html": [
       "<div>\n",
       "<style scoped>\n",
       "    .dataframe tbody tr th:only-of-type {\n",
       "        vertical-align: middle;\n",
       "    }\n",
       "\n",
       "    .dataframe tbody tr th {\n",
       "        vertical-align: top;\n",
       "    }\n",
       "\n",
       "    .dataframe thead th {\n",
       "        text-align: right;\n",
       "    }\n",
       "</style>\n",
       "<table border=\"1\" class=\"dataframe\">\n",
       "  <thead>\n",
       "    <tr style=\"text-align: right;\">\n",
       "      <th></th>\n",
       "      <th>5de391d57f6e91bd6cf56455</th>\n",
       "      <th>5de391d57f6e91bd6cf56456</th>\n",
       "      <th>5de391d57f6e91bd6cf56457</th>\n",
       "    </tr>\n",
       "  </thead>\n",
       "  <tbody>\n",
       "    <tr>\n",
       "      <th>5de391d57f6e91bd6cf56455</th>\n",
       "      <td>1.0</td>\n",
       "      <td>0.000000</td>\n",
       "      <td>0.000000</td>\n",
       "    </tr>\n",
       "    <tr>\n",
       "      <th>5de391d57f6e91bd6cf56456</th>\n",
       "      <td>0.0</td>\n",
       "      <td>1.000000</td>\n",
       "      <td>0.218218</td>\n",
       "    </tr>\n",
       "    <tr>\n",
       "      <th>5de391d57f6e91bd6cf56457</th>\n",
       "      <td>0.0</td>\n",
       "      <td>0.218218</td>\n",
       "      <td>1.000000</td>\n",
       "    </tr>\n",
       "  </tbody>\n",
       "</table>\n",
       "</div>"
      ],
      "text/plain": [
       "                          5de391d57f6e91bd6cf56455  5de391d57f6e91bd6cf56456  \\\n",
       "5de391d57f6e91bd6cf56455                       1.0                  0.000000   \n",
       "5de391d57f6e91bd6cf56456                       0.0                  1.000000   \n",
       "5de391d57f6e91bd6cf56457                       0.0                  0.218218   \n",
       "\n",
       "                          5de391d57f6e91bd6cf56457  \n",
       "5de391d57f6e91bd6cf56455                  0.000000  \n",
       "5de391d57f6e91bd6cf56456                  0.218218  \n",
       "5de391d57f6e91bd6cf56457                  1.000000  "
      ]
     },
     "metadata": {},
     "output_type": "display_data"
    }
   ],
   "source": [
    "similarity_matrix = distance(df, df)\n",
    "np.fill_diagonal(sim_df.values, 0) # Remove diagonal max values and set those to 0\n",
    "sim_df = pd.DataFrame(similarity_matrix, columns=info.keys(), index=info.keys())\n",
    "display(sim_df)"
   ]
  },
  {
   "cell_type": "code",
   "execution_count": 251,
   "metadata": {},
   "outputs": [],
   "source": [
    "np.fill_diagonal(sim_df.values, 0) # Remove diagonal max values and set those to 0\n",
    "x = sim_df.idxmax()\n"
   ]
  },
  {
   "cell_type": "code",
   "execution_count": 252,
   "metadata": {},
   "outputs": [
    {
     "data": {
      "text/plain": [
       "5de391d57f6e91bd6cf56455    5de391d57f6e91bd6cf56455\n",
       "5de391d57f6e91bd6cf56456    5de391d57f6e91bd6cf56457\n",
       "5de391d57f6e91bd6cf56457    5de391d57f6e91bd6cf56456\n",
       "dtype: object"
      ]
     },
     "execution_count": 252,
     "metadata": {},
     "output_type": "execute_result"
    }
   ],
   "source": [
    "x"
   ]
  },
  {
   "cell_type": "code",
   "execution_count": 168,
   "metadata": {},
   "outputs": [],
   "source": []
  },
  {
   "cell_type": "code",
   "execution_count": 164,
   "metadata": {},
   "outputs": [],
   "source": []
  },
  {
   "cell_type": "code",
   "execution_count": 165,
   "metadata": {},
   "outputs": [],
   "source": []
  },
  {
   "cell_type": "code",
   "execution_count": 166,
   "metadata": {},
   "outputs": [
    {
     "data": {
      "text/html": [
       "<div>\n",
       "<style scoped>\n",
       "    .dataframe tbody tr th:only-of-type {\n",
       "        vertical-align: middle;\n",
       "    }\n",
       "\n",
       "    .dataframe tbody tr th {\n",
       "        vertical-align: top;\n",
       "    }\n",
       "\n",
       "    .dataframe thead th {\n",
       "        text-align: right;\n",
       "    }\n",
       "</style>\n",
       "<table border=\"1\" class=\"dataframe\">\n",
       "  <thead>\n",
       "    <tr style=\"text-align: right;\">\n",
       "      <th></th>\n",
       "      <th>Hello</th>\n",
       "      <th>hate</th>\n",
       "      <th>good,</th>\n",
       "      <th>came</th>\n",
       "      <th>back</th>\n",
       "      <th>holidays</th>\n",
       "      <th>extremelly</th>\n",
       "      <th>sad</th>\n",
       "      <th>Hello</th>\n",
       "      <th>hate</th>\n",
       "    </tr>\n",
       "    <tr>\n",
       "      <th>index</th>\n",
       "      <th></th>\n",
       "      <th></th>\n",
       "      <th></th>\n",
       "      <th></th>\n",
       "      <th></th>\n",
       "      <th></th>\n",
       "      <th></th>\n",
       "      <th></th>\n",
       "      <th></th>\n",
       "      <th></th>\n",
       "    </tr>\n",
       "  </thead>\n",
       "  <tbody>\n",
       "    <tr>\n",
       "      <th>5de391d57f6e91bd6cf56455</th>\n",
       "      <td>2</td>\n",
       "      <td>2</td>\n",
       "      <td>2</td>\n",
       "      <td>2</td>\n",
       "      <td>2</td>\n",
       "      <td>2</td>\n",
       "      <td>2</td>\n",
       "      <td>2</td>\n",
       "      <td>2</td>\n",
       "      <td>2</td>\n",
       "    </tr>\n",
       "    <tr>\n",
       "      <th>5de391d57f6e91bd6cf56456</th>\n",
       "      <td>1</td>\n",
       "      <td>1</td>\n",
       "      <td>1</td>\n",
       "      <td>1</td>\n",
       "      <td>1</td>\n",
       "      <td>1</td>\n",
       "      <td>1</td>\n",
       "      <td>1</td>\n",
       "      <td>1</td>\n",
       "      <td>1</td>\n",
       "    </tr>\n",
       "    <tr>\n",
       "      <th>5de391d57f6e91bd6cf56457</th>\n",
       "      <td>1</td>\n",
       "      <td>1</td>\n",
       "      <td>1</td>\n",
       "      <td>1</td>\n",
       "      <td>1</td>\n",
       "      <td>1</td>\n",
       "      <td>1</td>\n",
       "      <td>1</td>\n",
       "      <td>1</td>\n",
       "      <td>1</td>\n",
       "    </tr>\n",
       "  </tbody>\n",
       "</table>\n",
       "</div>"
      ],
      "text/plain": [
       "                          Hello  hate  good,  came  back  holidays  \\\n",
       "index                                                                \n",
       "5de391d57f6e91bd6cf56455      2     2      2     2     2         2   \n",
       "5de391d57f6e91bd6cf56456      1     1      1     1     1         1   \n",
       "5de391d57f6e91bd6cf56457      1     1      1     1     1         1   \n",
       "\n",
       "                          extremelly  sad  Hello  hate  \n",
       "index                                                   \n",
       "5de391d57f6e91bd6cf56455           2    2      2     2  \n",
       "5de391d57f6e91bd6cf56456           1    1      1     1  \n",
       "5de391d57f6e91bd6cf56457           1    1      1     1  "
      ]
     },
     "execution_count": 166,
     "metadata": {},
     "output_type": "execute_result"
    }
   ],
   "source": []
  },
  {
   "cell_type": "code",
   "execution_count": null,
   "metadata": {},
   "outputs": [],
   "source": []
  },
  {
   "cell_type": "code",
   "execution_count": null,
   "metadata": {},
   "outputs": [],
   "source": []
  }
 ],
 "metadata": {
  "kernelspec": {
   "display_name": "Python 3",
   "language": "python",
   "name": "python3"
  },
  "language_info": {
   "codemirror_mode": {
    "name": "ipython",
    "version": 3
   },
   "file_extension": ".py",
   "mimetype": "text/x-python",
   "name": "python",
   "nbconvert_exporter": "python",
   "pygments_lexer": "ipython3",
   "version": "3.7.5"
  }
 },
 "nbformat": 4,
 "nbformat_minor": 2
}
