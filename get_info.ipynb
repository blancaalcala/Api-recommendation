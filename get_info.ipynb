{
 "cells": [
  {
   "cell_type": "code",
   "execution_count": 426,
   "metadata": {},
   "outputs": [],
   "source": [
    "from pymongo import MongoClient\n",
    "from bson.objectid import ObjectId\n",
    "import requests\n",
    "import json\n",
    "\n",
    "import pandas as pd\n",
    "from sklearn.feature_extraction.text import CountVectorizer\n",
    "from sklearn.metrics.pairwise import cosine_similarity as distance\n",
    "\n",
    "\n",
    "client = MongoClient()\n",
    "db = client[\"API\"]\n",
    "m = db['message']\n",
    "USER = db['user']\n",
    "chat = db['chat']\n"
   ]
  },
  {
   "cell_type": "code",
   "execution_count": 440,
   "metadata": {},
   "outputs": [
    {
     "name": "stdout",
     "output_type": "stream",
     "text": [
      "good\n"
     ]
    }
   ],
   "source": [
    "users_list = ['5de391d57f6e91bd6cf56455',\n",
    " '5de391d57f6e91bd6cf56456',\n",
    " '5de391d57f6e91bd6cf56457',\n",
    " '5de391d57f6e91bd6cf56458']\n",
    "if '5de391d57f6e91bd6cf56458' in users_list:\n",
    "    print(\"good\")\n",
    "else:\n",
    "    raise TypeError(\"The user doesnt belong to this chat\")"
   ]
  },
  {
   "cell_type": "markdown",
   "metadata": {},
   "source": [
    "# RECOMENDATIONS"
   ]
  },
  {
   "cell_type": "code",
   "execution_count": 394,
   "metadata": {},
   "outputs": [],
   "source": [
    "info = {}\n",
    "x=list(m.find({},{'message':1,'user_id':1,'_id':0}))\n",
    "for i in x:\n",
    "    if i['user_id'] not in info.keys():\n",
    "        info[i['user_id']] = i['message']\n",
    "    else:\n",
    "        info[i['user_id']] = info[i['user_id']]+\" \"+i['message']\n",
    "        "
   ]
  },
  {
   "cell_type": "code",
   "execution_count": 395,
   "metadata": {},
   "outputs": [],
   "source": [
    "count_vectorizer = CountVectorizer(stop_words='english')\n",
    "count_vectorizer = CountVectorizer()\n",
    "sparse_matrix = count_vectorizer.fit_transform(info.values())\n"
   ]
  },
  {
   "cell_type": "code",
   "execution_count": 407,
   "metadata": {},
   "outputs": [],
   "source": [
    "info_matrix = sparse_matrix.todense()\n",
    "df = pd.DataFrame(info_matrix, \n",
    "                  columns=count_vectorizer.get_feature_names(), \n",
    "                  index=info.keys())\n"
   ]
  },
  {
   "cell_type": "code",
   "execution_count": 409,
   "metadata": {},
   "outputs": [
    {
     "data": {
      "text/html": [
       "<div>\n",
       "<style scoped>\n",
       "    .dataframe tbody tr th:only-of-type {\n",
       "        vertical-align: middle;\n",
       "    }\n",
       "\n",
       "    .dataframe tbody tr th {\n",
       "        vertical-align: top;\n",
       "    }\n",
       "\n",
       "    .dataframe thead th {\n",
       "        text-align: right;\n",
       "    }\n",
       "</style>\n",
       "<table border=\"1\" class=\"dataframe\">\n",
       "  <thead>\n",
       "    <tr style=\"text-align: right;\">\n",
       "      <th></th>\n",
       "      <th>5de391d57f6e91bd6cf56455</th>\n",
       "      <th>5de391d57f6e91bd6cf56456</th>\n",
       "      <th>5de391d57f6e91bd6cf56457</th>\n",
       "      <th>5de3aad67f6e91bd6cf56461</th>\n",
       "      <th>5de3aad67f6e91bd6cf5645f</th>\n",
       "    </tr>\n",
       "  </thead>\n",
       "  <tbody>\n",
       "    <tr>\n",
       "      <th>5de391d57f6e91bd6cf56455</th>\n",
       "      <td>1.00</td>\n",
       "      <td>0.000000</td>\n",
       "      <td>0.000000</td>\n",
       "      <td>0.75</td>\n",
       "      <td>0.0</td>\n",
       "    </tr>\n",
       "    <tr>\n",
       "      <th>5de391d57f6e91bd6cf56456</th>\n",
       "      <td>0.00</td>\n",
       "      <td>1.000000</td>\n",
       "      <td>0.218218</td>\n",
       "      <td>0.00</td>\n",
       "      <td>0.0</td>\n",
       "    </tr>\n",
       "    <tr>\n",
       "      <th>5de391d57f6e91bd6cf56457</th>\n",
       "      <td>0.00</td>\n",
       "      <td>0.218218</td>\n",
       "      <td>1.000000</td>\n",
       "      <td>0.00</td>\n",
       "      <td>0.0</td>\n",
       "    </tr>\n",
       "    <tr>\n",
       "      <th>5de3aad67f6e91bd6cf56461</th>\n",
       "      <td>0.75</td>\n",
       "      <td>0.000000</td>\n",
       "      <td>0.000000</td>\n",
       "      <td>1.00</td>\n",
       "      <td>0.0</td>\n",
       "    </tr>\n",
       "    <tr>\n",
       "      <th>5de3aad67f6e91bd6cf5645f</th>\n",
       "      <td>0.00</td>\n",
       "      <td>0.000000</td>\n",
       "      <td>0.000000</td>\n",
       "      <td>0.00</td>\n",
       "      <td>1.0</td>\n",
       "    </tr>\n",
       "  </tbody>\n",
       "</table>\n",
       "</div>"
      ],
      "text/plain": [
       "                          5de391d57f6e91bd6cf56455  5de391d57f6e91bd6cf56456  \\\n",
       "5de391d57f6e91bd6cf56455                      1.00                  0.000000   \n",
       "5de391d57f6e91bd6cf56456                      0.00                  1.000000   \n",
       "5de391d57f6e91bd6cf56457                      0.00                  0.218218   \n",
       "5de3aad67f6e91bd6cf56461                      0.75                  0.000000   \n",
       "5de3aad67f6e91bd6cf5645f                      0.00                  0.000000   \n",
       "\n",
       "                          5de391d57f6e91bd6cf56457  5de3aad67f6e91bd6cf56461  \\\n",
       "5de391d57f6e91bd6cf56455                  0.000000                      0.75   \n",
       "5de391d57f6e91bd6cf56456                  0.218218                      0.00   \n",
       "5de391d57f6e91bd6cf56457                  1.000000                      0.00   \n",
       "5de3aad67f6e91bd6cf56461                  0.000000                      1.00   \n",
       "5de3aad67f6e91bd6cf5645f                  0.000000                      0.00   \n",
       "\n",
       "                          5de3aad67f6e91bd6cf5645f  \n",
       "5de391d57f6e91bd6cf56455                       0.0  \n",
       "5de391d57f6e91bd6cf56456                       0.0  \n",
       "5de391d57f6e91bd6cf56457                       0.0  \n",
       "5de3aad67f6e91bd6cf56461                       0.0  \n",
       "5de3aad67f6e91bd6cf5645f                       1.0  "
      ]
     },
     "metadata": {},
     "output_type": "display_data"
    }
   ],
   "source": [
    "similarity_matrix = distance(df, df)\n",
    "sim_df = pd.DataFrame(similarity_matrix, columns=info.keys(), index=info.keys())\n",
    "display(sim_df)"
   ]
  },
  {
   "cell_type": "code",
   "execution_count": 398,
   "metadata": {},
   "outputs": [],
   "source": [
    "chosen_user = '5de391d57f6e91bd6cf56456'\n",
    "recom = sim_df[chosen_user].sort_values(ascending=False)[1:]"
   ]
  },
  {
   "cell_type": "code",
   "execution_count": 425,
   "metadata": {},
   "outputs": [
    {
     "name": "stdout",
     "output_type": "stream",
     "text": [
      "5de391d57f6e91bd6cf56456\n",
      "5de3aad67f6e91bd6cf5645f\n",
      "5de3aad67f6e91bd6cf56461\n"
     ]
    }
   ],
   "source": [
    "g = {\"user0\": \"5de391d57f6e91bd6cf56456\", \"user1\": \"5de3aad67f6e91bd6cf5645f\", \"user2\": \"5de3aad67f6e91bd6cf56461\"}\n",
    "\n",
    "for i in g.values():\n",
    "    print(i)"
   ]
  },
  {
   "cell_type": "code",
   "execution_count": 406,
   "metadata": {},
   "outputs": [
    {
     "data": {
      "text/plain": [
       "[{'_id': ObjectId('5de391d57f6e91bd6cf56457'), 'username': 'Cristina'},\n",
       " {'_id': ObjectId('5de3aad67f6e91bd6cf5645f'), 'username': 'Gonzalo'},\n",
       " {'_id': ObjectId('5de3aad67f6e91bd6cf56461'), 'username': 'Maria'}]"
      ]
     },
     "execution_count": 406,
     "metadata": {},
     "output_type": "execute_result"
    }
   ],
   "source": [
    "recommendations = []\n",
    "for u in users[:3]:\n",
    "    recommendations.append(list(USER.find({'_id':ObjectId(u)}))[0])\n",
    "    \n",
    "recommendations"
   ]
  },
  {
   "cell_type": "code",
   "execution_count": null,
   "metadata": {},
   "outputs": [],
   "source": []
  },
  {
   "cell_type": "code",
   "execution_count": null,
   "metadata": {},
   "outputs": [],
   "source": []
  },
  {
   "cell_type": "code",
   "execution_count": null,
   "metadata": {},
   "outputs": [],
   "source": []
  },
  {
   "cell_type": "code",
   "execution_count": null,
   "metadata": {},
   "outputs": [],
   "source": []
  },
  {
   "cell_type": "code",
   "execution_count": null,
   "metadata": {},
   "outputs": [],
   "source": []
  }
 ],
 "metadata": {
  "kernelspec": {
   "display_name": "Python 3",
   "language": "python",
   "name": "python3"
  },
  "language_info": {
   "codemirror_mode": {
    "name": "ipython",
    "version": 3
   },
   "file_extension": ".py",
   "mimetype": "text/x-python",
   "name": "python",
   "nbconvert_exporter": "python",
   "pygments_lexer": "ipython3",
   "version": "3.7.5"
  }
 },
 "nbformat": 4,
 "nbformat_minor": 2
}
